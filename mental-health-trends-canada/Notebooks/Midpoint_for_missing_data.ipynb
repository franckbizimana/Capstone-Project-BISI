{
  "nbformat": 4,
  "nbformat_minor": 0,
  "metadata": {
    "colab": {
      "provenance": []
    },
    "kernelspec": {
      "name": "python3",
      "display_name": "Python 3"
    },
    "language_info": {
      "name": "python"
    }
  },
  "cells": [
    {
      "cell_type": "code",
      "execution_count": 3,
      "metadata": {
        "colab": {
          "base_uri": "https://localhost:8080/"
        },
        "id": "q6pQGB3HNOkD",
        "outputId": "5212f9b7-1bdd-4a90-a769-2a7d1819f06c"
      },
      "outputs": [
        {
          "output_type": "stream",
          "name": "stdout",
          "text": [
            "                    Province  Year  Quarter  Excellent_Very_Good  Good  \\\n",
            "0  Newfoundland and Labrador  2021        2                 46.6  37.2   \n",
            "1       Prince Edward Island  2021        2                 48.7  33.1   \n",
            "2                Nova Scotia  2021        2                 47.0  29.3   \n",
            "3              New Brunswick  2021        2                 46.9  37.8   \n",
            "4                     Quebec  2021        2                 53.0  34.3   \n",
            "\n",
            "   Fair_Poor  \n",
            "0       16.2  \n",
            "1       18.1  \n",
            "2       23.7  \n",
            "3       15.2  \n",
            "4       12.7  \n"
          ]
        }
      ],
      "source": [
        "import pandas as pd\n",
        "\n",
        "# Load the dataset\n",
        "df = pd.read_csv(\"Final_Cleaned_Main_Dataset.csv\")\n",
        "\n",
        "# Extract Year and Quarter separately\n",
        "df[[\"Quarter\", \"Year\"]] = df[\"Quarter\"].str.extract(r\"(Q\\d)\\s(\\d{4})\")\n",
        "\n",
        "# Convert Quarter to integer (Q1 → 1, Q2 → 2, etc.)\n",
        "df[\"Quarter\"] = df[\"Quarter\"].str.extract(r\"Q(\\d)\").astype(int)\n",
        "\n",
        "# Convert Year to integer\n",
        "df[\"Year\"] = df[\"Year\"].astype(int)\n",
        "\n",
        "# Ensure correct column order\n",
        "df = df[[\"Province\", \"Year\", \"Quarter\", \"Excellent_Very_Good\", \"Good\", \"Fair_Poor\"]]\n",
        "\n",
        "# Save the updated dataset\n",
        "df.to_csv(\"Final_Cleaned_Main_Dataset_Updated.csv\", index=False)\n",
        "\n",
        "# Check the first few rows\n",
        "print(df.head())\n"
      ]
    },
    {
      "cell_type": "code",
      "source": [
        "import pandas as pd\n",
        "\n",
        "# Load the cleaned dataset\n",
        "df = pd.read_csv(\"Final_Cleaned_Main_Dataset_Updated.csv\")\n",
        "\n",
        "# Check if Q1 2023 is missing for each province\n",
        "missing_q1_2023 = df[(df[\"Year\"] == 2023) & (df[\"Quarter\"] == 1)]\n",
        "print(missing_q1_2023)\n"
      ],
      "metadata": {
        "colab": {
          "base_uri": "https://localhost:8080/"
        },
        "id": "mukd962mRyIc",
        "outputId": "5c231eaa-c166-4958-d5eb-fb3fa6bca2fe"
      },
      "execution_count": 7,
      "outputs": [
        {
          "output_type": "stream",
          "name": "stdout",
          "text": [
            "Empty DataFrame\n",
            "Columns: [Province, Year, Quarter, Excellent_Very_Good, Good, Fair_Poor]\n",
            "Index: []\n"
          ]
        }
      ]
    },
    {
      "cell_type": "code",
      "source": [
        "import pandas as pd\n",
        "\n",
        "# Load the cleaned dataset\n",
        "df = pd.read_csv(\"Final_Cleaned_Main_Dataset_Updated.csv\")\n",
        "\n",
        "# Ensure \"Year\" and \"Quarter\" are numeric\n",
        "df[\"Year\"] = df[\"Year\"].astype(int)\n",
        "df[\"Quarter\"] = df[\"Quarter\"].astype(int)\n",
        "\n",
        "# Find Q4 2022 and Q2 2023 values per province\n",
        "q4_2022 = df[(df[\"Year\"] == 2022) & (df[\"Quarter\"] == 4)]\n",
        "q2_2023 = df[(df[\"Year\"] == 2023) & (df[\"Quarter\"] == 2)]\n",
        "\n",
        "# Merge both datasets on \"Province\" to align Q4 2022 and Q2 2023\n",
        "df_q1_2023 = q4_2022.merge(q2_2023, on=\"Province\", suffixes=(\"_Q4_2022\", \"_Q2_2023\"))\n",
        "\n",
        "# Apply Midpoint Estimation for all three mental health categories and round to 1 decimal place\n",
        "for col in [\"Excellent_Very_Good\", \"Good\", \"Fair_Poor\"]:\n",
        "    df_q1_2023[col] = ((df_q1_2023[f\"{col}_Q4_2022\"] + df_q1_2023[f\"{col}_Q2_2023\"]) / 2).round(1)\n",
        "\n",
        "# Keep only necessary columns for Q1 2023\n",
        "df_q1_2023 = df_q1_2023[[\"Province\", \"Excellent_Very_Good\", \"Good\", \"Fair_Poor\"]]\n",
        "\n",
        "# Explicitly set Year and Quarter for Q1 2023\n",
        "df_q1_2023[\"Year\"] = 2023\n",
        "df_q1_2023[\"Quarter\"] = 1\n",
        "\n",
        "# Append the estimated Q1 2023 values to the dataset\n",
        "df = pd.concat([df, df_q1_2023], ignore_index=True)\n",
        "\n",
        "# Save the updated dataset with a correct name\n",
        "df.to_csv(\"Final_Cleaned_Main_Dataset_Midpoint_Estimation.csv\", index=False)\n",
        "\n",
        "print(\"Q1 2023 estimated using Midpoint Estimation (Q4 2022 & Q2 2023 averages) and rounded to 1 decimal place.\")\n",
        "print(\"Dataset saved as: Final_Cleaned_Main_Dataset_Midpoint_Estimation.csv\")\n"
      ],
      "metadata": {
        "colab": {
          "base_uri": "https://localhost:8080/"
        },
        "id": "HWrcmxSlZWTk",
        "outputId": "21489510-6055-4aba-88e9-b56095b1142a"
      },
      "execution_count": 12,
      "outputs": [
        {
          "output_type": "stream",
          "name": "stdout",
          "text": [
            "Q1 2023 estimated using Midpoint Estimation (Q4 2022 & Q2 2023 averages) and rounded to 1 decimal place.\n",
            "Dataset saved as: Final_Cleaned_Main_Dataset_Midpoint_Estimation.csv\n"
          ]
        }
      ]
    }
  ]
}