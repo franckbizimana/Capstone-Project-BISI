{
  "nbformat": 4,
  "nbformat_minor": 0,
  "metadata": {
    "colab": {
      "provenance": []
    },
    "kernelspec": {
      "name": "python3",
      "display_name": "Python 3"
    },
    "language_info": {
      "name": "python"
    }
  },
  "cells": [
    {
      "cell_type": "code",
      "execution_count": 1,
      "metadata": {
        "id": "UXPKsRNenGBU",
        "colab": {
          "base_uri": "https://localhost:8080/",
          "height": 17
        },
        "outputId": "435399ec-b2fc-4e1c-c6d1-663ec4ba2e30"
      },
      "outputs": [
        {
          "output_type": "display_data",
          "data": {
            "text/plain": [
              "<IPython.core.display.Javascript object>"
            ],
            "application/javascript": [
              "\n",
              "    async function download(id, filename, size) {\n",
              "      if (!google.colab.kernel.accessAllowed) {\n",
              "        return;\n",
              "      }\n",
              "      const div = document.createElement('div');\n",
              "      const label = document.createElement('label');\n",
              "      label.textContent = `Downloading \"${filename}\": `;\n",
              "      div.appendChild(label);\n",
              "      const progress = document.createElement('progress');\n",
              "      progress.max = size;\n",
              "      div.appendChild(progress);\n",
              "      document.body.appendChild(div);\n",
              "\n",
              "      const buffers = [];\n",
              "      let downloaded = 0;\n",
              "\n",
              "      const channel = await google.colab.kernel.comms.open(id);\n",
              "      // Send a message to notify the kernel that we're ready.\n",
              "      channel.send({})\n",
              "\n",
              "      for await (const message of channel.messages) {\n",
              "        // Send a message to notify the kernel that we're ready.\n",
              "        channel.send({})\n",
              "        if (message.buffers) {\n",
              "          for (const buffer of message.buffers) {\n",
              "            buffers.push(buffer);\n",
              "            downloaded += buffer.byteLength;\n",
              "            progress.value = downloaded;\n",
              "          }\n",
              "        }\n",
              "      }\n",
              "      const blob = new Blob(buffers, {type: 'application/binary'});\n",
              "      const a = document.createElement('a');\n",
              "      a.href = window.URL.createObjectURL(blob);\n",
              "      a.download = filename;\n",
              "      div.appendChild(a);\n",
              "      a.click();\n",
              "      div.remove();\n",
              "    }\n",
              "  "
            ]
          },
          "metadata": {}
        },
        {
          "output_type": "display_data",
          "data": {
            "text/plain": [
              "<IPython.core.display.Javascript object>"
            ],
            "application/javascript": [
              "download(\"download_74d92b2c-5c80-443d-b26d-71bb770a8d06\", \"Final_Filtered_Dataset.csv\", 12918)"
            ]
          },
          "metadata": {}
        }
      ],
      "source": [
        "import pandas as pd\n",
        "from google.colab import files\n",
        "\n",
        "# Load datasets\n",
        "climate_data = pd.read_csv(\"Climate clean data.csv\")\n",
        "cpi_data = pd.ExcelFile(\"Final cleaned CPI Data.xlsx\")\n",
        "main_dataset = pd.read_csv(\"Final_Cleaned_Main_Dataset_Midpoint_Estimation.csv\")\n",
        "financial_stress_data = pd.read_csv(\"Financial_Stress_Ratios.csv\")\n",
        "google_trends_data = pd.ExcelFile(\"Transformed_Cleaned_Google_Trends_Data.xlsx\")\n",
        "unemployment_data = pd.ExcelFile(\"Unemployment rate.xlsx\")\n",
        "\n",
        "# Read sheets from Excel files\n",
        "cpi_df = cpi_data.parse(\"Sheet 1 - Final cleaned CPI Dat\")\n",
        "google_trends_df = google_trends_data.parse(\"Sheet 1 - Transformed_Google_Tr\")\n",
        "unemployment_df = unemployment_data.parse(\"Sheet 1 - Unemployment rate\")\n",
        "\n",
        "# Standardize column names\n",
        "climate_data.rename(columns={\"Year\": \"YEAR\", \"Quarter\": \"QUARTER\"}, inplace=True)\n",
        "financial_stress_data.rename(columns={\"Year\": \"YEAR\", \"Quarter\": \"QUARTER\"}, inplace=True)\n",
        "main_dataset.rename(columns={\"Year\": \"YEAR\", \"Quarter\": \"QUARTER\"}, inplace=True)\n",
        "google_trends_df.rename(columns={\"Year\": \"YEAR\", \"Quarter\": \"QUARTER\"}, inplace=True)\n",
        "\n",
        "# Fix Province Name Mismatches\n",
        "province_corrections = {\n",
        "    \"Newfoundland&labrador\": \"Newfoundland and Labrador\",\n",
        "    \"Prince Edward\": \"Prince Edward Island\",\n",
        "    \"Québec\": \"Quebec\"\n",
        "}\n",
        "\n",
        "datasets_to_clean = [climate_data, cpi_df, main_dataset, financial_stress_data, google_trends_df, unemployment_df]\n",
        "\n",
        "for dataset in datasets_to_clean:\n",
        "    dataset[\"Province\"] = dataset[\"Province\"].replace(province_corrections).str.strip()\n",
        "\n",
        "# Merge Datasets\n",
        "merged_df = climate_data.merge(cpi_df, on=[\"Province\", \"YEAR\", \"QUARTER\"], how=\"outer\")\n",
        "merged_df = merged_df.merge(main_dataset, on=[\"Province\", \"YEAR\", \"QUARTER\"], how=\"outer\")\n",
        "merged_df = merged_df.merge(financial_stress_data, on=[\"Province\", \"YEAR\", \"QUARTER\"], how=\"outer\")\n",
        "merged_df = merged_df.merge(google_trends_df, on=[\"Province\", \"YEAR\", \"QUARTER\"], how=\"outer\")\n",
        "merged_df = merged_df.merge(unemployment_df, on=[\"Province\", \"YEAR\", \"QUARTER\"], how=\"outer\")\n",
        "\n",
        "# Filter Only Required Provinces & Quarters\n",
        "valid_provinces = [\n",
        "    \"Alberta\", \"British Columbia\", \"Manitoba\", \"New Brunswick\",\n",
        "    \"Newfoundland and Labrador\", \"Nova Scotia\", \"Ontario\",\n",
        "    \"Prince Edward Island\", \"Quebec\", \"Saskatchewan\"\n",
        "]\n",
        "\n",
        "valid_quarters = [\n",
        "    (2021, 2), (2021, 3), (2021, 4),\n",
        "    (2022, 1), (2022, 2), (2022, 3), (2022, 4),\n",
        "    (2023, 1), (2023, 2), (2023, 3)\n",
        "]\n",
        "\n",
        "filtered_df = merged_df[\n",
        "    (merged_df[\"Province\"].isin(valid_provinces)) &\n",
        "    (merged_df[[\"YEAR\", \"QUARTER\"]].apply(tuple, axis=1).isin(valid_quarters))\n",
        "]\n",
        "\n",
        "# Save and Download Cleaned Dataset\n",
        "filtered_df.to_csv(\"Final_Filtered_Dataset.csv\", index=False)\n",
        "files.download(\"Final_Filtered_Dataset.csv\")\n"
      ]
    }
  ]
}