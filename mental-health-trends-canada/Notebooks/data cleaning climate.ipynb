{
  "nbformat": 4,
  "nbformat_minor": 0,
  "metadata": {
    "colab": {
      "provenance": []
    },
    "kernelspec": {
      "name": "python3",
      "display_name": "Python 3"
    },
    "language_info": {
      "name": "python"
    }
  },
  "cells": [
    {
      "cell_type": "code",
      "source": [
        "import pandas as pd\n"
      ],
      "metadata": {
        "id": "T60uYgaxyYTr"
      },
      "execution_count": 43,
      "outputs": []
    },
    {
      "cell_type": "code",
      "source": [
        "# Define the file path (Make sure your CSV file is in the same directory or provide the full path)\n",
        "file_path = \"/content/CLIMATE DATA.csv\"\n",
        "\n",
        "# Load the dataset (Using 'latin1' encoding to handle special characters)\n",
        "df = pd.read_csv(file_path, encoding=\"latin1\")\n"
      ],
      "metadata": {
        "id": "jmg73qT4yYe8"
      },
      "execution_count": 44,
      "outputs": []
    },
    {
      "cell_type": "code",
      "source": [
        "# Convert the 'Date' column into a datetime format\n",
        "df[\"Date\"] = pd.to_datetime(df[\"Date\"], format=\"%d-%b-%y\")\n"
      ],
      "metadata": {
        "id": "SUu0HdHcyYmZ"
      },
      "execution_count": 45,
      "outputs": []
    },
    {
      "cell_type": "code",
      "source": [
        "# Extract Year from the Date column\n",
        "df[\"Year\"] = df[\"Date\"].dt.year\n",
        "\n",
        "# Extract Quarter from the Date column\n",
        "df[\"Quarter\"] = df[\"Date\"].dt.quarter\n"
      ],
      "metadata": {
        "id": "FbwWm18HyYtS"
      },
      "execution_count": 46,
      "outputs": []
    },
    {
      "cell_type": "code",
      "source": [
        "# Group by Province, Year, and Quarter\n",
        "quarterly_data = df.groupby([\"Province\", \"Year\", \"Quarter\"]).agg({\n",
        "    \"Mean Temp (¡C)\": \"mean\",  # Use mean for temperature to get the correct representation\n",
        "    \"Total Precip (mm)\": \"sum\"  # Sum precipitation as it is an accumulated measure\n",
        "}).reset_index()\n",
        "\n"
      ],
      "metadata": {
        "id": "rBSn9q6RyYyT"
      },
      "execution_count": 47,
      "outputs": []
    },
    {
      "cell_type": "code",
      "source": [
        "quarterly_data.rename(columns={\n",
        "    \"Mean Temp (¡C)\": \"Quarterly Avg Temp (°C)\",  # Now it correctly represents an average\n",
        "    \"Total Precip (mm)\": \"Quarterly Sum Precip (mm)\"\n",
        "}, inplace=True)\n"
      ],
      "metadata": {
        "id": "l3GpWYFNyY4W"
      },
      "execution_count": 48,
      "outputs": []
    },
    {
      "cell_type": "code",
      "source": [
        "# Save the final transformed dataset as a CSV file\n",
        "output_file = \"Quarterly_Climate_Data.csv\"\n",
        "quarterly_data.to_csv(output_file, index=False)\n",
        "\n"
      ],
      "metadata": {
        "id": "AlOfKt5PyY9r"
      },
      "execution_count": 49,
      "outputs": []
    },
    {
      "cell_type": "code",
      "source": [
        "from google.colab import files\n",
        "files.download(output_file)"
      ],
      "metadata": {
        "colab": {
          "base_uri": "https://localhost:8080/",
          "height": 17
        },
        "id": "ZoLKk1kpywLw",
        "outputId": "2e7c0402-fc3f-4046-a188-13ace9c4deb0"
      },
      "execution_count": 50,
      "outputs": [
        {
          "output_type": "display_data",
          "data": {
            "text/plain": [
              "<IPython.core.display.Javascript object>"
            ],
            "application/javascript": [
              "\n",
              "    async function download(id, filename, size) {\n",
              "      if (!google.colab.kernel.accessAllowed) {\n",
              "        return;\n",
              "      }\n",
              "      const div = document.createElement('div');\n",
              "      const label = document.createElement('label');\n",
              "      label.textContent = `Downloading \"${filename}\": `;\n",
              "      div.appendChild(label);\n",
              "      const progress = document.createElement('progress');\n",
              "      progress.max = size;\n",
              "      div.appendChild(progress);\n",
              "      document.body.appendChild(div);\n",
              "\n",
              "      const buffers = [];\n",
              "      let downloaded = 0;\n",
              "\n",
              "      const channel = await google.colab.kernel.comms.open(id);\n",
              "      // Send a message to notify the kernel that we're ready.\n",
              "      channel.send({})\n",
              "\n",
              "      for await (const message of channel.messages) {\n",
              "        // Send a message to notify the kernel that we're ready.\n",
              "        channel.send({})\n",
              "        if (message.buffers) {\n",
              "          for (const buffer of message.buffers) {\n",
              "            buffers.push(buffer);\n",
              "            downloaded += buffer.byteLength;\n",
              "            progress.value = downloaded;\n",
              "          }\n",
              "        }\n",
              "      }\n",
              "      const blob = new Blob(buffers, {type: 'application/binary'});\n",
              "      const a = document.createElement('a');\n",
              "      a.href = window.URL.createObjectURL(blob);\n",
              "      a.download = filename;\n",
              "      div.appendChild(a);\n",
              "      a.click();\n",
              "      div.remove();\n",
              "    }\n",
              "  "
            ]
          },
          "metadata": {}
        },
        {
          "output_type": "display_data",
          "data": {
            "text/plain": [
              "<IPython.core.display.Javascript object>"
            ],
            "application/javascript": [
              "download(\"download_cfa045fa-66db-4598-9abc-5efdadd809ba\", \"Quarterly_Climate_Data.csv\", 5201)"
            ]
          },
          "metadata": {}
        }
      ]
    }
  ]
}